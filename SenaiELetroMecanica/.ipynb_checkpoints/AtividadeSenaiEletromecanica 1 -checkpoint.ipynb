{
 "cells": [
  {
   "cell_type": "markdown",
   "metadata": {},
   "source": [
    "### FUNDAMENTOS ELÉTRICOS"
   ]
  },
  {
   "cell_type": "markdown",
   "metadata": {},
   "source": [
    "#####  Situação de aprendizagem: ESTUFA DANIFICADA"
   ]
  },
  {
   "cell_type": "markdown",
   "metadata": {},
   "source": [
    "##### NOME DO ALUNO:"
   ]
  },
  {
   "cell_type": "markdown",
   "metadata": {},
   "source": [
    "##### Juan Manoel Marinho Nascimento"
   ]
  },
  {
   "cell_type": "markdown",
   "metadata": {},
   "source": [
    "#### Etapa 1: Descreva o passo-a-passo para identificar a tensão, a corrente elétrica e a potência dos resistores do equipamento:"
   ]
  },
  {
   "cell_type": "markdown",
   "metadata": {},
   "source": [
    "###### ANEXO 1 – ESQUEMÁTICO"
   ]
  },
  {
   "cell_type": "markdown",
   "metadata": {},
   "source": [
    "![Image of Yaktocat](Circuito.png)"
   ]
  },
  {
   "cell_type": "code",
   "execution_count": 11,
   "metadata": {},
   "outputs": [],
   "source": [
    "r1 = 10\n",
    "r2 = 20\n",
    "r3 = 30\n",
    "r4 = 50\n",
    "F1 = 70\n",
    "V = F1"
   ]
  },
  {
   "cell_type": "markdown",
   "metadata": {},
   "source": [
    "### Paralelo"
   ]
  },
  {
   "cell_type": "code",
   "execution_count": 12,
   "metadata": {},
   "outputs": [
    {
     "name": "stdout",
     "output_type": "stream",
     "text": [
      "12 Ohm\n"
     ]
    }
   ],
   "source": [
    "req1 = (r2 * r3) / (r2 + r3 )\n",
    "print req1,\"Ohm\" "
   ]
  },
  {
   "cell_type": "markdown",
   "metadata": {},
   "source": [
    "### Serie"
   ]
  },
  {
   "cell_type": "code",
   "execution_count": 6,
   "metadata": {},
   "outputs": [
    {
     "name": "stdout",
     "output_type": "stream",
     "text": [
      "72 ohm\n"
     ]
    }
   ],
   "source": [
    "reqT = r1 + req1 + r4 \n",
    "print reqT, \"ohm\""
   ]
  },
  {
   "cell_type": "markdown",
   "metadata": {},
   "source": [
    "### Corrente Total "
   ]
  },
  {
   "cell_type": "code",
   "execution_count": 10,
   "metadata": {},
   "outputs": [
    {
     "name": "stdout",
     "output_type": "stream",
     "text": [
      "0.972222222222 A\n"
     ]
    }
   ],
   "source": [
    "It = 70.0/72.0\n",
    "print It,\"A\""
   ]
  },
  {
   "cell_type": "markdown",
   "metadata": {},
   "source": [
    "### Potencia Total"
   ]
  },
  {
   "cell_type": "code",
   "execution_count": 13,
   "metadata": {},
   "outputs": [
    {
     "name": "stdout",
     "output_type": "stream",
     "text": [
      "68.0555555556 W\n"
     ]
    }
   ],
   "source": [
    "Pt = V * It \n",
    "print Pt, \"W\""
   ]
  },
  {
   "cell_type": "code",
   "execution_count": 20,
   "metadata": {},
   "outputs": [
    {
     "name": "stdout",
     "output_type": "stream",
     "text": [
      "Potencia W\n",
      "9.409 \n",
      "6.77448 \n",
      "4.51632 \n",
      "47.045\n"
     ]
    }
   ],
   "source": [
    "potR1 = 9.7 * 0.97\n",
    "potR2 = 11.64 * 0.582\n",
    "potR3 = 11.64 * 0.388\n",
    "potR4 = 48.5 * 0.97\n",
    "print \"Potencia W\\n\",potR1,\"\\n\",potR2,\"\\n\", potR3,\"\\n\",potR4\n",
    "potenciaTotal = potR1+potR2+potR3+potR4"
   ]
  },
  {
   "cell_type": "code",
   "execution_count": 22,
   "metadata": {},
   "outputs": [
    {
     "name": "stdout",
     "output_type": "stream",
     "text": [
      "Potencia TOTAL:  67.7448 W\n"
     ]
    }
   ],
   "source": [
    "print \"Potencia TOTAL: \",potenciaTotal,\"W\""
   ]
  },
  {
   "cell_type": "markdown",
   "metadata": {},
   "source": [
    "## TABELA 1 "
   ]
  },
  {
   "cell_type": "markdown",
   "metadata": {},
   "source": [
    "\\begin{array}{rr} \\hline\n",
    "Circuito &Resistencia(ohm) &Tensão(V) &Corrente(A) &Potência (w)\\\\ \\hline\n",
    "R1 &10 &9.7  &0.97 &9.409 \\\\ \\hline\n",
    "R2 &20 &11.64 &0.582 &6.77 \\\\ \\hline\n",
    "R3 &30 &11.64 &0.388 &4.51 \\\\ \\hline\n",
    "R4 &50 &48.5 &0.97 &47.04 \\\\ \\hline\n",
    "Equivalencia &72 &70 &0.972 &68.05 \\\\ \\hline\n",
    "\\end{array}"
   ]
  },
  {
   "cell_type": "code",
   "execution_count": null,
   "metadata": {},
   "outputs": [],
   "source": []
  }
 ],
 "metadata": {
  "kernelspec": {
   "display_name": "Python 2",
   "language": "python",
   "name": "python2"
  },
  "language_info": {
   "codemirror_mode": {
    "name": "ipython",
    "version": 2
   },
   "file_extension": ".py",
   "mimetype": "text/x-python",
   "name": "python",
   "nbconvert_exporter": "python",
   "pygments_lexer": "ipython2",
   "version": "2.7.13"
  }
 },
 "nbformat": 4,
 "nbformat_minor": 2
}
