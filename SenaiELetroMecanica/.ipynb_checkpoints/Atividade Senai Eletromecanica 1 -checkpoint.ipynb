{
 "cells": [
  {
   "cell_type": "markdown",
   "metadata": {},
   "source": [
    "### FUNDAMENTOS ELÉTRICOS"
   ]
  },
  {
   "cell_type": "markdown",
   "metadata": {},
   "source": [
    "#####  Situação de aprendizagem: ESTUFA DANIFICADA"
   ]
  },
  {
   "cell_type": "markdown",
   "metadata": {},
   "source": [
    "##### NOME DO ALUNO:"
   ]
  },
  {
   "cell_type": "markdown",
   "metadata": {},
   "source": [
    "##### Juan Manoel Marinho Nascimento & Debora Rodrigues"
   ]
  },
  {
   "cell_type": "markdown",
   "metadata": {},
   "source": [
    "#### Etapa 1: Descreva o passo-a-passo para identificar a tensão, a corrente elétrica e a potência dos resistores do equipamento:"
   ]
  },
  {
   "cell_type": "markdown",
   "metadata": {},
   "source": [
    "###### ANEXO 1 – ESQUEMÁTICO"
   ]
  },
  {
   "cell_type": "markdown",
   "metadata": {},
   "source": [
    "![Image of Yaktocat](Circuito.png)"
   ]
  },
  {
   "cell_type": "code",
   "execution_count": 2,
   "metadata": {},
   "outputs": [],
   "source": [
    "r1 = 10\n",
    "r2 = 20\n",
    "r3 = 30\n",
    "r4 = 50\n",
    "F1 = 70\n",
    "V = F1\n"
   ]
  },
  {
   "cell_type": "markdown",
   "metadata": {},
   "source": [
    "### Circuito  Paralelo"
   ]
  },
  {
   "cell_type": "code",
   "execution_count": 3,
   "metadata": {},
   "outputs": [
    {
     "name": "stdout",
     "output_type": "stream",
     "text": [
      "12 Ohm\n"
     ]
    }
   ],
   "source": [
    "req1 = (r2 * r3) / (r2 + r3 )\n",
    "print req1,\"Ohm\" "
   ]
  },
  {
   "cell_type": "markdown",
   "metadata": {},
   "source": [
    "### Circuito  Serie"
   ]
  },
  {
   "cell_type": "code",
   "execution_count": 6,
   "metadata": {},
   "outputs": [
    {
     "name": "stdout",
     "output_type": "stream",
     "text": [
      "72 ohm\n"
     ]
    }
   ],
   "source": [
    "reqT = r1 + req1 + r4 \n",
    "print reqT, \"ohm\""
   ]
  },
  {
   "cell_type": "markdown",
   "metadata": {},
   "source": [
    "### Corrente Total "
   ]
  },
  {
   "cell_type": "code",
   "execution_count": 5,
   "metadata": {},
   "outputs": [
    {
     "name": "stdout",
     "output_type": "stream",
     "text": [
      "0.972222222222 A\n"
     ]
    }
   ],
   "source": [
    "It = 70.0/72.0\n",
    "print It,\"A\""
   ]
  },
  {
   "cell_type": "markdown",
   "metadata": {},
   "source": [
    "#### Tensão "
   ]
  },
  {
   "cell_type": "code",
   "execution_count": 7,
   "metadata": {},
   "outputs": [],
   "source": [
    "v1 = r1 * It\n",
    "v2 = req1 * It\n",
    "v3 = v2 \n",
    "v4 = r4 * It"
   ]
  },
  {
   "cell_type": "code",
   "execution_count": 8,
   "metadata": {},
   "outputs": [
    {
     "name": "stdout",
     "output_type": "stream",
     "text": [
      "9.72222222222\n",
      "11.6666666667\n",
      "11.6666666667\n",
      "48.6111111111\n"
     ]
    }
   ],
   "source": [
    "print v1\n",
    "print v2 \n",
    "print v3 \n",
    "print v4"
   ]
  },
  {
   "cell_type": "markdown",
   "metadata": {},
   "source": [
    "##### Corrente "
   ]
  },
  {
   "cell_type": "code",
   "execution_count": 9,
   "metadata": {},
   "outputs": [],
   "source": [
    "I1 = It \n",
    "I2 = v2 / r2\n",
    "I3 = v3 / r3\n",
    "I4 = It"
   ]
  },
  {
   "cell_type": "code",
   "execution_count": 10,
   "metadata": {},
   "outputs": [
    {
     "name": "stdout",
     "output_type": "stream",
     "text": [
      "0.972222222222 \n",
      "0.583333333333 \n",
      "0.388888888889 \n",
      "0.972222222222\n"
     ]
    }
   ],
   "source": [
    "print I1,\"\\n\",I2,\"\\n\",I3,\"\\n\",I4"
   ]
  },
  {
   "cell_type": "markdown",
   "metadata": {},
   "source": [
    "### Potencia Total"
   ]
  },
  {
   "cell_type": "code",
   "execution_count": 13,
   "metadata": {},
   "outputs": [
    {
     "name": "stdout",
     "output_type": "stream",
     "text": [
      "68.0555555556 W\n"
     ]
    }
   ],
   "source": [
    "Pt = V * It \n",
    "print Pt, \"W\""
   ]
  },
  {
   "cell_type": "code",
   "execution_count": 1,
   "metadata": {},
   "outputs": [
    {
     "name": "stdout",
     "output_type": "stream",
     "text": [
      "Potencia W\n",
      "9.409 \n",
      "6.77448 \n",
      "4.51632 \n",
      "47.045\n"
     ]
    }
   ],
   "source": [
    "potR1 = 9.7   * 0.97\n",
    "potR2 = 11.64 * 0.582\n",
    "potR3 = 11.64 * 0.388\n",
    "potR4 = 48.5  * 0.97\n",
    "print \"Potencia W\\n\",potR1,\"\\n\",potR2,\"\\n\", potR3,\"\\n\",potR4\n",
    "potenciaTotal = potR1+potR2+potR3+potR4"
   ]
  },
  {
   "cell_type": "code",
   "execution_count": 22,
   "metadata": {},
   "outputs": [
    {
     "name": "stdout",
     "output_type": "stream",
     "text": [
      "Potencia TOTAL:  67.7448 W\n"
     ]
    }
   ],
   "source": [
    "print \"Potencia TOTAL: \",potenciaTotal,\"W\""
   ]
  },
  {
   "cell_type": "markdown",
   "metadata": {},
   "source": [
    "# Etapa 2: Usando o circuito da Etapa 1, preencha a tabela abaixo com os valores solicitados:\n"
   ]
  },
  {
   "cell_type": "markdown",
   "metadata": {},
   "source": [
    "## TABELA 1 "
   ]
  },
  {
   "cell_type": "markdown",
   "metadata": {},
   "source": [
    "\\begin{array}{rr} \\hline\n",
    "Circuito &Resistencia(ohm) &Tensão(V) &Corrente(A) &Potência (w)\\\\ \\hline\n",
    "R1 &10 &9.7  &0.97 &9.409 \\\\ \\hline\n",
    "R2 &20 &11.64 &0.582 &6.77 \\\\ \\hline\n",
    "R3 &30 &11.64 &0.388 &4.51 \\\\ \\hline\n",
    "R4 &50 &48.5 &0.97 &47.04 \\\\ \\hline\n",
    "Equivalencia &72 &70 &0.972 &68.05 \\\\ \\hline\n",
    "\\end{array}"
   ]
  },
  {
   "cell_type": "markdown",
   "metadata": {},
   "source": [
    "### Etapa 3:"
   ]
  },
  {
   "cell_type": "markdown",
   "metadata": {},
   "source": [
    "##### Usando o circuito abaixo, preencha a tabela 2 abaixo com os valores solicitados. Este circuito é o mesmo da Etapa 1, mas agora o Resistor R2 está em Curto Circuito, ou seja, ele se transforma num fio com resistência próxima a 0Ω (zero Ohms).\n",
    "#### Dica: faça o cálculo da Resistência equivalente do Resistor R2=0Ω em paralelo com R3=30Ω. Qual o resultado???"
   ]
  },
  {
   "cell_type": "markdown",
   "metadata": {},
   "source": [
    "![Image of Yaktocat](Etapa3.png)"
   ]
  },
  {
   "cell_type": "markdown",
   "metadata": {},
   "source": [
    "### TABELA 2"
   ]
  },
  {
   "cell_type": "markdown",
   "metadata": {},
   "source": [
    "\\begin{array}{rr} \\hline\n",
    "Circuito &Resistencia(ohm) &Tensão(V) &Corrente(A) &Potência (w)\\\\ \\hline\n",
    "R1 &10 &11,66  &1,166 &13,59 \\\\ \\hline\n",
    "R2 &curto &curto  &curto &curto \\\\ \\hline\n",
    "R3 &30 & &1,166 & \\\\ \\hline\n",
    "R4 &50 &58,3 &1,166 &67,97 \\\\ \\hline\n",
    "Equivalencia &60 &70 &1,166 &81,62 \\\\ \\hline\n",
    "\\end{array}"
   ]
  },
  {
   "cell_type": "markdown",
   "metadata": {},
   "source": [
    "![Image of Yaktocat](senai.jpeg)"
   ]
  },
  {
   "cell_type": "code",
   "execution_count": null,
   "metadata": {},
   "outputs": [],
   "source": []
  }
 ],
 "metadata": {
  "kernelspec": {
   "display_name": "Python 2",
   "language": "python",
   "name": "python2"
  },
  "language_info": {
   "codemirror_mode": {
    "name": "ipython",
    "version": 2
   },
   "file_extension": ".py",
   "mimetype": "text/x-python",
   "name": "python",
   "nbconvert_exporter": "python",
   "pygments_lexer": "ipython2",
   "version": "2.7.13"
  }
 },
 "nbformat": 4,
 "nbformat_minor": 2
}
